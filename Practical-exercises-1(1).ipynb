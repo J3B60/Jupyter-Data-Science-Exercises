{
 "cells": [
  {
   "cell_type": "markdown",
   "metadata": {},
   "source": [
    "# Python & Data Science practical exercises 1\n",
    "\n",
    "## Python programming"
   ]
  },
  {
   "cell_type": "markdown",
   "metadata": {},
   "source": [
    "Follow the instructions to complete each of these tasks, and use the testing code cells to check your answers. This set of exercises focusses on writing basic Python code, and some object oriented and functional programming. Do not worry if you do not complete them all in the timetabled practical session.\n",
    "\n",
    "**Questions marked with a * are extra challenging**\n",
    "\n",
    "The relevant materials for these exercises are lectures 1 to 5.\n",
    "\n",
    "This is not assessed but will help you gain practical experience for the exam and coursework.\n",
    "\n",
    "*Feel free to work on them in any order, and focus on the ones you find most challening or interesting!*"
   ]
  },
  {
   "cell_type": "markdown",
   "metadata": {},
   "source": [
    "### Basic Python and data structures "
   ]
  },
  {
   "cell_type": "markdown",
   "metadata": {},
   "source": [
    "#### 1.1\n",
    "\n",
    "Write a function fib(n) that returns the first n values of the Fibonacci sequence $F$, with $F_1=1$, $F_2=2$, $F_n = F_{n-1} + F_{n-2}$."
   ]
  },
  {
   "cell_type": "code",
   "execution_count": 5,
   "metadata": {},
   "outputs": [],
   "source": [
    "def fib(n):\n",
    "    f = [0,1,2]\n",
    "    inputNM =n-3\n",
    "    for i in range(inputNM):\n",
    "        f.append(f[i+2] + f[i+1])\n",
    "    return f[n-1]"
   ]
  },
  {
   "cell_type": "code",
   "execution_count": 6,
   "metadata": {},
   "outputs": [
    {
     "data": {
      "text/plain": [
       "144"
      ]
     },
     "execution_count": 6,
     "metadata": {},
     "output_type": "execute_result"
    }
   ],
   "source": [
    "# Testing\n",
    "fib(12) # Should give 144"
   ]
  },
  {
   "cell_type": "markdown",
   "metadata": {},
   "source": [
    "#### 1.2\n",
    "\n",
    "Write a function rev(xs) that takes a list as argument and returns the list in reverse, without using the built-in Python reverse() method."
   ]
  },
  {
   "cell_type": "code",
   "execution_count": 11,
   "metadata": {},
   "outputs": [],
   "source": [
    "def rev(xs):\n",
    "    out = []\n",
    "    for i in range(len(xs)):\n",
    "        out.append(xs[len(xs)-1-i])\n",
    "    return out"
   ]
  },
  {
   "cell_type": "code",
   "execution_count": 12,
   "metadata": {},
   "outputs": [
    {
     "data": {
      "text/plain": [
       "[1, 'test', 4, [2, 1]]"
      ]
     },
     "execution_count": 12,
     "metadata": {},
     "output_type": "execute_result"
    }
   ],
   "source": [
    "# Testing\n",
    "rev([[2,1],4,\"test\",1]) # Should return [1,\"test\",4,[2,1]]"
   ]
  },
  {
   "cell_type": "markdown",
   "metadata": {},
   "source": [
    "#### 1.3\n",
    "\n",
    "Write a function palindrome(s) to determine if a string s is a palindrome (the same backwards as forwards), returning True if it is and False otherwise. The function should ignore capitalisation (you can use the lower() method for strings for this)."
   ]
  },
  {
   "cell_type": "code",
   "execution_count": 39,
   "metadata": {},
   "outputs": [],
   "source": [
    "#OLD\n",
    "#def palindrome(s):\n",
    "#    sModified = s\n",
    "#    out = True\n",
    "#    if len(sModified)%2 != 0:\n",
    "#        #del s[int(len(sModified)/2)+1]\n",
    "#        sModified = s[:len(s)/2] + s[(len(s)/2)+1:]\n",
    "#    for i in range(len(sModified)):\n",
    "#        if sModified[i] != sModified[len(sModified)-1-i]:\n",
    "#            out = False\n",
    "#            break\n",
    "#    return out\n",
    "\n",
    "def palindrome(s):\n",
    "    s = s.lower()\n",
    "    compare = \"\"\n",
    "    for i in range(len(s)):\n",
    "        compare = compare + (s[len(s)-1-i])\n",
    "    print (compare)\n",
    "    print (s)\n",
    "    if compare == s:\n",
    "        return True\n",
    "    else:\n",
    "        return False"
   ]
  },
  {
   "cell_type": "code",
   "execution_count": 41,
   "metadata": {},
   "outputs": [
    {
     "name": "stdout",
     "output_type": "stream",
     "text": [
      "kayak\n",
      "kayak\n"
     ]
    },
    {
     "data": {
      "text/plain": [
       "True"
      ]
     },
     "execution_count": 41,
     "metadata": {},
     "output_type": "execute_result"
    }
   ],
   "source": [
    "# Testing\n",
    "palindrome(\"Kayak\") # True\n",
    "#palindrome(\"Python\") # False\n",
    "#palindrome(\"civic\") # True"
   ]
  },
  {
   "cell_type": "markdown",
   "metadata": {},
   "source": [
    "### Classes"
   ]
  },
  {
   "cell_type": "markdown",
   "metadata": {},
   "source": [
    "#### Extending the Network class"
   ]
  },
  {
   "cell_type": "markdown",
   "metadata": {},
   "source": [
    "#### 2.1\n",
    "\n",
    "Below is a simple network class that uses a list to store the edges of the network. Using this as a starting point, add to the code in the cell below to extend the simple Network class to:\n",
    "\n",
    " - Modify the edge addition method to keep track of the set of nodes in the network.\n",
    " - Add a method addNode(x) to add a node x to the network.\n",
    " - Add a method nnodes() to return the number of nodes in the network.\n",
    " \n",
    "Try and do this in a way that allows inheritance to be used to extend it without rewriting all of the methods."
   ]
  },
  {
   "cell_type": "code",
   "execution_count": 9,
   "metadata": {},
   "outputs": [],
   "source": [
    "# Extend this class:\n",
    "\n",
    "class Network:\n",
    "    def __init__(self):\n",
    "        self.edges = []\n",
    "        self.nodes = []\n",
    "    def readFile(self,filename):\n",
    "        with open(filename,'r') as f:\n",
    "            for l in f:\n",
    "                a,b = l.split(\"\\t\")\n",
    "                e = (int(a),int(b))\n",
    "                self.addEdge(e)\n",
    "    def addEdge(self,e):\n",
    "        self.edges.append(e)\n",
    "        self.addNodeAuto(e)\n",
    "    def addNodeAuto(self,e):\n",
    "        if  not (e[0] in self.nodes): #If not in\n",
    "            self.nodes.append(e[0])\n",
    "        if not (e[1] in self.nodes): #if not in\n",
    "            self.nodes.append(e[1])\n",
    "    def addNode(self,x):\n",
    "        if not (x in self.nodes):\n",
    "            self.nodes.append(x)\n",
    "    def nnodes(self):\n",
    "        print (self.nodes)\n",
    "        return len(self.nodes)"
   ]
  },
  {
   "cell_type": "code",
   "execution_count": 10,
   "metadata": {},
   "outputs": [
    {
     "name": "stdout",
     "output_type": "stream",
     "text": [
      "[1, 2, 3, 4]\n"
     ]
    },
    {
     "data": {
      "text/plain": [
       "4"
      ]
     },
     "execution_count": 10,
     "metadata": {},
     "output_type": "execute_result"
    }
   ],
   "source": [
    "# Testing\n",
    "n = Network()\n",
    "n.addNode(1)\n",
    "n.addEdge((1,2))\n",
    "n.addNode(3)\n",
    "n.addEdge((1,4))\n",
    "n.nnodes() # Should be 4"
   ]
  },
  {
   "cell_type": "markdown",
   "metadata": {},
   "source": [
    "#### 2.2\n",
    "\n",
    "Write a network class that inherits from the Network class created above, that stores networks in a neighbour list format, similar to the one from the lectures but including a deleteEdge method that will delete an edge whilst keeping the neighbour list consistent.\n",
    "\n",
    "*You can use a Python set object to store the list of neighbours, and use the method remove(a) on a set object to remove a value a from the set.*"
   ]
  },
  {
   "cell_type": "code",
   "execution_count": 13,
   "metadata": {},
   "outputs": [],
   "source": [
    "class NeighbourNetwork(Network):\n",
    "    def __init__(self):\n",
    "        super().__init__()\n",
    "        self.neighbours = [[]]\n",
    "    def addEdge(self, e):\n",
    "        super().addEdge(e)\n",
    "        super().addNodeAuto(e)\n",
    "        if not (e[0] in self.edges):\n",
    "            self.neighbours.append([e[0]])\n",
    "            self.neighbours[len(self.neighbours)-1].append(e[1])\n",
    "        else:\n",
    "            for idx in range(len(self.neighbours)):\n",
    "                x = self.neighbours[idx][0]\n",
    "                if x == e[0]:\n",
    "                    self.neighbours[idx].append(e[1])\n",
    "        if not (e[1] in self.edges):\n",
    "            self.neighbours.append([e[1]])\n",
    "            self.neighbours[len(self.neighbours)-1].append(e[0])\n",
    "        else:\n",
    "            for idx in range(len(self.neighbours)):\n",
    "                x = self.neighbours[idx][0]\n",
    "                if x == e[1]:\n",
    "                    self.neighbours[idx].append(e[0])\n",
    "    ######TODOv###################################Still needs work but its roughly there##################\n",
    "    def deleteEdge(self,e):\n",
    "        for idx in range(len(self.neighbours[0])):\n",
    "            if e[0] == self.neighbours[e[1]-1] and e[1] == self.neighbours[e[0]-1]:\n",
    "                del self.neighbours[e[1]-1][n]\n",
    "                del self.neighbours[e[0]-1][n]\n",
    "        "
   ]
  },
  {
   "cell_type": "code",
   "execution_count": 15,
   "metadata": {},
   "outputs": [
    {
     "data": {
      "text/plain": [
       "[5, 1]"
      ]
     },
     "execution_count": 15,
     "metadata": {},
     "output_type": "execute_result"
    }
   ],
   "source": [
    "# Testing\n",
    "n = NeighbourNetwork()\n",
    "n.addEdge((1,2))\n",
    "n.addEdge((1,5))\n",
    "n.addEdge((2,3))\n",
    "n.addEdge((3,4))\n",
    "n.addEdge((4,1))\n",
    "n.deleteEdge((1,4))\n",
    "n.neighbours[1] # Should be 2,5\n",
    "n.neighbours[4] # Should be 3"
   ]
  },
  {
   "cell_type": "markdown",
   "metadata": {},
   "source": [
    "#### 2.3*\n",
    "\n",
    "Extend the set of unordered pairs class in the cell below to allow pairs to be deleted. Do this in a way that works when the pair is specified in either possible order (e.g. (x,y) and (y,x). Use this class to write a network class that stores networks in an edge list format and includes a deleteEdge method to delete edges.\n",
    "\n",
    "*You can use the method remove(a) on a set object to remove a value a from the set.*"
   ]
  },
  {
   "cell_type": "code",
   "execution_count": null,
   "metadata": {},
   "outputs": [],
   "source": [
    "class upairset: # Extend this class to add a delete method\n",
    "    def __init__(self):\n",
    "        self.pairs = set()\n",
    "    def add(self,pair):\n",
    "        a,b = pair\n",
    "        if a<b:\n",
    "            self.pairs.add((a,b))\n",
    "        else:\n",
    "            self.pairs.add((b,a))      \n",
    "    def __contains__(self,pair):\n",
    "        a,b = pair\n",
    "        if a<b:\n",
    "            return (a,b) in self.pairs\n",
    "        else:\n",
    "            return (b,a) in self.pairs\n",
    "        \n",
    "# Write your new edge list network class here"
   ]
  },
  {
   "cell_type": "code",
   "execution_count": null,
   "metadata": {},
   "outputs": [],
   "source": [
    "# Testing\n",
    "n = Network()\n",
    "n.addEdge((1,2))\n",
    "n.addEdge((1,5))\n",
    "n.addEdge((2,3))\n",
    "n.addEdge((3,4))\n",
    "n.addEdge((4,1))\n",
    "n.deleteEdge((1,4))\n",
    "n.neighbours(1) # Should be 2,5\n",
    "n.neighbours(4) # Should be 3"
   ]
  },
  {
   "cell_type": "markdown",
   "metadata": {},
   "source": [
    "#### 2.4*\n",
    "\n",
    "Add a method to convert the network to NetworkX format to one of the Network classes (you can do this in one of the previous cells rather than redifining the classes here). Use this to add a method drawNetwork() to the base class to draw the network using Bokeh and NetworkX.\n",
    "\n",
    "You may need to refer to the lecture slides from lecture 4 to look up how to create the network with networkx, and to plot it.\n",
    "\n",
    "If you are feeling adventurous you can experiment with using Holoviews instead, following the instructions [here](http://holoviews.org/user_guide/Network_Graphs.html)."
   ]
  },
  {
   "cell_type": "code",
   "execution_count": null,
   "metadata": {},
   "outputs": [],
   "source": [
    "import networkx"
   ]
  },
  {
   "cell_type": "code",
   "execution_count": null,
   "metadata": {},
   "outputs": [],
   "source": [
    "# Testing\n",
    "n = Network() # You can also test this with different network classes inheriting from Network\n",
    "n.addEdge((1,2))\n",
    "n.addEdge((1,5))\n",
    "n.addEdge((2,3))\n",
    "n.addEdge((3,4))\n",
    "n.addEdge((4,1))\n",
    "n.drawNetwork()"
   ]
  },
  {
   "cell_type": "markdown",
   "metadata": {},
   "source": [
    "#### 2.5*\n",
    "\n",
    "Load the Zebra social network data (available on blackboard) into one of your network classes and draw it. What does this tell you about the structure of the Zebra social network?"
   ]
  },
  {
   "cell_type": "code",
   "execution_count": null,
   "metadata": {},
   "outputs": [],
   "source": []
  },
  {
   "cell_type": "markdown",
   "metadata": {},
   "source": [
    "### Functional programming"
   ]
  },
  {
   "cell_type": "markdown",
   "metadata": {},
   "source": [
    "#### Map\n",
    "\n",
    "#### 3.1\n",
    "\n",
    "Use a map to return the largest element of each pair (tuple) in the list below"
   ]
  },
  {
   "cell_type": "code",
   "execution_count": 18,
   "metadata": {},
   "outputs": [],
   "source": [
    "a = [(7,5),(1,2),(5,2),(9,1),(4,7)]\n",
    "# f = lambda x : .... \n",
    "f = lambda x : x[0] if x[0] > x[1] else x[1]"
   ]
  },
  {
   "cell_type": "code",
   "execution_count": 19,
   "metadata": {},
   "outputs": [
    {
     "data": {
      "text/plain": [
       "[7, 2, 5, 9, 7]"
      ]
     },
     "execution_count": 19,
     "metadata": {},
     "output_type": "execute_result"
    }
   ],
   "source": [
    "# Testing\n",
    "list(map(f,a)) # [7, 2, 5, 9, 7]"
   ]
  },
  {
   "cell_type": "markdown",
   "metadata": {},
   "source": [
    "#### Filter\n",
    "\n",
    "#### 3.2\n",
    "\n",
    "Write a lambda f to use in a filter to remove tuples where the second element is the largest, and apply the filter to the list a."
   ]
  },
  {
   "cell_type": "code",
   "execution_count": 24,
   "metadata": {},
   "outputs": [],
   "source": [
    "a = [(3,2,3),(2,5,4),(1,9,10),(4,1,2),(8,6,3),(1,3,2),(2,9,2),(1,7,9)]\n",
    "# f = lambda x : ....\n",
    "f = lambda x : False if x[1] > x[0] and x[1] > x[2] else True"
   ]
  },
  {
   "cell_type": "code",
   "execution_count": 25,
   "metadata": {},
   "outputs": [
    {
     "data": {
      "text/plain": [
       "[(3, 2, 3), (1, 9, 10), (4, 1, 2), (8, 6, 3), (1, 7, 9)]"
      ]
     },
     "execution_count": 25,
     "metadata": {},
     "output_type": "execute_result"
    }
   ],
   "source": [
    "# Testing\n",
    "list(filter(f,a)) # [(3, 2, 3), (1, 9, 10), (4, 1, 2), (8, 6, 3), (1, 7, 9)]"
   ]
  },
  {
   "cell_type": "markdown",
   "metadata": {},
   "source": [
    "#### Fold\n",
    "\n",
    "#### 3.3*\n",
    "\n",
    "Write a function afoldl that performs a left fold and accumulates a list of all the intermediate values, including the first item of the list."
   ]
  },
  {
   "cell_type": "code",
   "execution_count": null,
   "metadata": {},
   "outputs": [],
   "source": [
    "def afoldl(lmd, lst):\n",
    "    "
   ]
  },
  {
   "cell_type": "code",
   "execution_count": null,
   "metadata": {},
   "outputs": [],
   "source": [
    "# Testing\n",
    "f = lambda x,y: y-x\n",
    "afoldl(f,range(-5,5)) # [-5, 1, -4, 2, -3, 3, -2, 4, -1, 5]"
   ]
  },
  {
   "cell_type": "markdown",
   "metadata": {},
   "source": [
    "#### Higher order functions\n",
    "\n",
    "#### 3.4*\n",
    "\n",
    "Write a function power(f,n) that takes a function as an argument, and returns a function that applies f to its input n times\n",
    "\n",
    "E.g. for g=power(f,3), $g(x)=f(f(f(x)))$"
   ]
  },
  {
   "cell_type": "code",
   "execution_count": null,
   "metadata": {},
   "outputs": [],
   "source": []
  },
  {
   "cell_type": "markdown",
   "metadata": {},
   "source": [
    "#### List comprehensions"
   ]
  },
  {
   "cell_type": "markdown",
   "metadata": {},
   "source": [
    "#### 3.5\n",
    "\n",
    "Write a list comprehension that will return all possible sets of three values x,y,z, one from each list a,b and c, where x<y<z."
   ]
  },
  {
   "cell_type": "code",
   "execution_count": 30,
   "metadata": {},
   "outputs": [],
   "source": [
    "a = [2,4,5,6,7]\n",
    "b = [3,9,6,4]\n",
    "c = [5,2,9]\n",
    "\n",
    "out = []\n",
    "for i in a:\n",
    "    for j in b:\n",
    "        for k in c:\n",
    "            if i < j < k:\n",
    "                out.append([i,j,k])"
   ]
  },
  {
   "cell_type": "code",
   "execution_count": 31,
   "metadata": {},
   "outputs": [
    {
     "name": "stdout",
     "output_type": "stream",
     "text": [
      "[[2, 3, 5], [2, 3, 9], [2, 6, 9], [2, 4, 5], [2, 4, 9], [4, 6, 9], [5, 6, 9]]\n"
     ]
    }
   ],
   "source": [
    "print(out)\n",
    "# Should give [(2, 3, 5), (2, 3, 9), (2, 6, 9), (2, 4, 5), (2, 4, 9), (4, 6, 9), (5, 6, 9)]"
   ]
  },
  {
   "cell_type": "markdown",
   "metadata": {},
   "source": [
    "#### 3.6\n",
    "\n",
    "Write a list comprehension that returns pairs (x,y) where x is divisble by y for x in the range a and y in the range b."
   ]
  },
  {
   "cell_type": "code",
   "execution_count": 33,
   "metadata": {},
   "outputs": [],
   "source": [
    "a = range(1,22)\n",
    "b = range(1,11)\n",
    "\n",
    "out = []\n",
    "for x in a:\n",
    "    for y in b:\n",
    "        if x%y == 0:\n",
    "            out.append([x,y])"
   ]
  },
  {
   "cell_type": "code",
   "execution_count": 34,
   "metadata": {},
   "outputs": [
    {
     "name": "stdout",
     "output_type": "stream",
     "text": [
      "59\n"
     ]
    }
   ],
   "source": [
    "print(len(out))\n",
    "# Output should have 59 elements - test this with len()"
   ]
  },
  {
   "cell_type": "markdown",
   "metadata": {},
   "source": [
    "#### Generators"
   ]
  },
  {
   "cell_type": "markdown",
   "metadata": {},
   "source": [
    "#### 3.7\n",
    "\n",
    "Write a generator expression g that will generate an infinite sequence of values which are not divisible by 3 or 5. You should use the count function in the itertools module to generate the infinite range. "
   ]
  },
  {
   "cell_type": "code",
   "execution_count": 57,
   "metadata": {},
   "outputs": [],
   "source": [
    "import itertools as it\n",
    "\n",
    "#out = []\n",
    "#def g(stop): #Added extra to be able to stop and check if the program works\n",
    "#    c = 0\n",
    "#    for x in it.count():\n",
    "#        if not (x % 5 == 0 or x % 3 == 0):\n",
    "#            out.append(x)\n",
    "#            c += 1\n",
    "#            if c >= stop:\n",
    "#                break\n",
    "#g(50)\n",
    "#print(out)\n",
    "\n",
    "g = (x for x in it.count() if not (x % 5 == 0 or x % 3 == 0))"
   ]
  },
  {
   "cell_type": "markdown",
   "metadata": {},
   "source": [
    "#### 3.8\n",
    "\n",
    "Write a function take(g,n) that takes a generator g as an argument and returns a list containing the first n values of g. Use it to generate the first five values of the generator in the previous question."
   ]
  },
  {
   "cell_type": "code",
   "execution_count": 59,
   "metadata": {},
   "outputs": [],
   "source": [
    "def take(func,n):\n",
    "    out = []\n",
    "    for i in range(n):\n",
    "        out.append(next(g))\n",
    "    return out"
   ]
  },
  {
   "cell_type": "code",
   "execution_count": 60,
   "metadata": {},
   "outputs": [
    {
     "data": {
      "text/plain": [
       "[1, 2, 4, 7, 8]"
      ]
     },
     "execution_count": 60,
     "metadata": {},
     "output_type": "execute_result"
    }
   ],
   "source": [
    "# Testing\n",
    "take(g,5) # Should give [1,2,4,7,8]"
   ]
  },
  {
   "cell_type": "code",
   "execution_count": null,
   "metadata": {},
   "outputs": [],
   "source": []
  }
 ],
 "metadata": {
  "kernelspec": {
   "display_name": "Python 3",
   "language": "python",
   "name": "python3"
  },
  "language_info": {
   "codemirror_mode": {
    "name": "ipython",
    "version": 3
   },
   "file_extension": ".py",
   "mimetype": "text/x-python",
   "name": "python",
   "nbconvert_exporter": "python",
   "pygments_lexer": "ipython3",
   "version": "3.7.4"
  }
 },
 "nbformat": 4,
 "nbformat_minor": 2
}
